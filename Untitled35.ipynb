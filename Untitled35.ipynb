{
  "cells": [
    {
      "cell_type": "code",
      "source": [
        "n=25\n",
        "for i in range(1,n):\n",
        "   if i*i==n:\n",
        "    print(\"perfect number\")\n",
        "    break"
      ],
      "metadata": {
        "colab": {
          "base_uri": "https://localhost:8080/"
        },
        "id": "bAvmf8bxHKY7",
        "outputId": "16823543-3533-4bcf-e6d9-3ebd4167b21c"
      },
      "execution_count": 1,
      "outputs": [
        {
          "output_type": "stream",
          "name": "stdout",
          "text": [
            "perfect number\n"
          ]
        }
      ]
    },
    {
      "cell_type": "code",
      "source": [
        "n=int(input())\n",
        "m = n * n\n",
        "num = m % 10\n",
        "if num == n:\n",
        "    print(\"Automorphic\")\n",
        "else:\n",
        "    print('Not Automorphic')"
      ],
      "metadata": {
        "colab": {
          "base_uri": "https://localhost:8080/"
        },
        "id": "7Rtjs3lLLXvF",
        "outputId": "dfa905b8-77d2-48da-f41e-2225512ba6a9"
      },
      "execution_count": null,
      "outputs": [
        {
          "output_type": "stream",
          "name": "stdout",
          "text": [
            "67\n",
            "Not Automorphic\n"
          ]
        }
      ]
    },
    {
      "cell_type": "code",
      "source": [
        "from google.colab import drive\n",
        "drive.mount('/content/drive')"
      ],
      "metadata": {
        "id": "lrc7hfqBw0Zk"
      },
      "execution_count": null,
      "outputs": []
    },
    {
      "cell_type": "code",
      "source": [
        "n = int(input())\n",
        "sum = 0\n",
        "for i in range(1,n):\n",
        "  if n%i == 0:\n",
        "       sum=sum+i\n",
        "  if sum>n:\n",
        "       print(\"Abundant\")\n"
      ],
      "metadata": {
        "colab": {
          "base_uri": "https://localhost:8080/"
        },
        "id": "HKUou8nmMB9R",
        "outputId": "e541bd76-e8b8-4a42-869a-bc34ed628de7"
      },
      "execution_count": null,
      "outputs": [
        {
          "name": "stdout",
          "output_type": "stream",
          "text": [
            "5\n"
          ]
        }
      ]
    },
    {
      "cell_type": "markdown",
      "source": [],
      "metadata": {
        "id": "Fy5knefKLnr6"
      }
    },
    {
      "cell_type": "code",
      "source": [
        "n1=int(input())\n",
        "n2=int(input())\n",
        "sum1=0\n",
        "sum2=0\n",
        "for i in range(1,n1):\n",
        "     if n1%i==0:\n",
        "        sum1=sum1+i\n",
        "for j in range(1,n2):\n",
        "     if n2%i==0:\n",
        "        sum2=sum2+j\n",
        "if sum1//n1==sum2//n2:\n",
        "        print(\"Friendly pair\")\n",
        "else:\n",
        "        print(\"Not Friendly pair\")\n"
      ],
      "metadata": {
        "colab": {
          "base_uri": "https://localhost:8080/"
        },
        "id": "vyu6aGMuMMsO",
        "outputId": "622a940f-a9ba-4b2b-e773-4c696a6d8b60"
      },
      "execution_count": null,
      "outputs": [
        {
          "output_type": "stream",
          "name": "stdout",
          "text": [
            "56\n",
            "78\n",
            "Not Friendly pair\n"
          ]
        }
      ]
    }
  ],
  "metadata": {
    "colab": {
      "provenance": []
    },
    "kernelspec": {
      "display_name": "Python 3",
      "name": "python3"
    },
    "language_info": {
      "name": "python"
    }
  },
  "nbformat": 4,
  "nbformat_minor": 0
}